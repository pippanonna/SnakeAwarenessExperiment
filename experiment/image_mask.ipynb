{
 "cells": [
  {
   "cell_type": "code",
   "execution_count": null,
   "metadata": {},
   "outputs": [],
   "source": [
    "%pip install matplotlib numpy opencv-python scikit-image"
   ]
  },
  {
   "cell_type": "code",
   "execution_count": null,
   "metadata": {},
   "outputs": [],
   "source": [
    "from collections.abc import Generator, Iterator\n",
    "from cv2 import imread, imwrite\n",
    "from numpy import concatenate, ndarray\n",
    "from pathlib import Path\n",
    "from random import shuffle\n",
    "from skimage.exposure import match_histograms\n",
    "\n",
    "import matplotlib.pyplot as plt\n",
    "import sys\n"
   ]
  },
  {
   "cell_type": "code",
   "execution_count": null,
   "metadata": {},
   "outputs": [],
   "source": [
    "def max_div(l: int, i: int = 2) -> int | None:\n",
    "    \"\"\"max_div(l, i) finds the smallest divisor d (at least i) of l.\n",
    "\n",
    "    Args:\n",
    "        l (int): The number to find a divisor of.\n",
    "        i (int, optional): The minimum value of the divisor. Defaults to 2.\n",
    "\n",
    "    Returns:\n",
    "        int | None: The smallest divisor of l, or None if l has no other divisor than itself higher than i.\n",
    "    \"\"\"\n",
    "    while i < l:\n",
    "        if l % i == 0:\n",
    "            return i\n",
    "        i += 1\n",
    "    return None"
   ]
  },
  {
   "cell_type": "code",
   "execution_count": null,
   "metadata": {},
   "outputs": [],
   "source": [
    "def parts(img: ndarray, dx: int, dy: int) -> Generator[ndarray, None, None]:\n",
    "    \"\"\"parts(img, dx, dy) splits img into a grid of images of size dx*dy.\n",
    "\n",
    "    Args:\n",
    "        img (ndarray): The image to split.\n",
    "        dx (int): The width of a splitted image part.\n",
    "        dy (int): The height of a splitted image part.\n",
    "\n",
    "    Yields:\n",
    "        Generator[ndarray, None, None]: The splitted image parts.\n",
    "    \"\"\"\n",
    "    for y in range(0, img.shape[0], dy):\n",
    "        for x in range(0, img.shape[1], dx):\n",
    "            yield img[y:y+dy, x:x+dx]"
   ]
  },
  {
   "cell_type": "code",
   "execution_count": null,
   "metadata": {},
   "outputs": [],
   "source": [
    "def rebuild(tiles: list[ndarray], nx: int) -> ndarray:\n",
    "    \"\"\"rebuild(tiles, nx) recreates an image from a grid of images of the same size.\n",
    "\n",
    "    Args:\n",
    "        tiles (list[ndarray]): The grid of images to concatenate.\n",
    "        nx (int): The number of images per row.\n",
    "\n",
    "    Returns:\n",
    "        ndarray: The generated image.\n",
    "    \"\"\"\n",
    "    return concatenate([concatenate(tiles[x:x+nx]) for x in range(0, len(tiles), nx)], axis=1)"
   ]
  },
  {
   "cell_type": "code",
   "execution_count": null,
   "metadata": {},
   "outputs": [],
   "source": [
    "def shuffle_img(img: ndarray, min: int = 2) -> ndarray:\n",
    "    \"\"\"shuffle_img(img, min) splits img into a grid of images of the same size (at least min*min), then shuffles the grid and creates a new image.\n",
    "\n",
    "    Args:\n",
    "        img (ndarray): The image to shuffle.\n",
    "        min (int, optional): The lowest bound of a sub-image width or height. Defaults to 2.\n",
    "\n",
    "    Returns:\n",
    "        ndarray: The generated image.\n",
    "    \"\"\"\n",
    "    ly, lx, _ = img.shape\n",
    "    dx, dy = max_div(lx, min), max_div(ly, min)\n",
    "    tiles = list(parts(img, dx, dy))\n",
    "    shuffle(tiles)\n",
    "    return rebuild(tiles, lx // dx), (dx, dy)"
   ]
  },
  {
   "cell_type": "code",
   "execution_count": null,
   "metadata": {},
   "outputs": [],
   "source": [
    "def get_min_size(images: Iterator[ndarray]) -> tuple[int, int]:\n",
    "    \"\"\"get_min_size(images) gets the smallest width and height of all images.\n",
    "\n",
    "    Args:\n",
    "        images (Iterator[ndarray]): The images to get the smallest size of.\n",
    "\n",
    "    Returns:\n",
    "        tuple[int, int]: The smallest width and height.\n",
    "    \"\"\"\n",
    "    min_width, min_height = sys.maxsize, sys.maxsize\n",
    "    for _, image in images:\n",
    "        height, width, _ = image.shape\n",
    "        min_width, min_height = min(min_width, width), min(min_height, height)\n",
    "    return min_width, min_height"
   ]
  },
  {
   "cell_type": "code",
   "execution_count": null,
   "metadata": {},
   "outputs": [],
   "source": [
    "def crop_center(image: ndarray, width: int, height: int) -> ndarray:\n",
    "    \"\"\"crop_center(image, w, h) removes pixels at both image borders to reduce it to size w*h.\n",
    "\n",
    "    Args:\n",
    "        image (ndarray): The image to crop.\n",
    "        width (int): The target image width.\n",
    "        height (int): The target image geight.\n",
    "\n",
    "    Returns:\n",
    "        ndarray: The cropped image.\n",
    "    \"\"\"\n",
    "    old_height, old_width, _ = image.shape\n",
    "    x0 = old_width // 2 - width // 2\n",
    "    y0 = old_height // 2 - height // 2\n",
    "    return image[y0:y0+height, x0:x0+width, :]"
   ]
  },
  {
   "cell_type": "code",
   "execution_count": null,
   "metadata": {},
   "outputs": [],
   "source": [
    "def image_files(path: Path) -> Generator[tuple[Path, ndarray], None, None]:\n",
    "    \"\"\"image_files(path) yields all image file names and content in path.\n",
    "\n",
    "    Args:\n",
    "        path (Path): The path to get image files from.\n",
    "\n",
    "    Yields:\n",
    "        Generator[tuple[Path, ndarray], None, None]: The file names, and their associated content.\n",
    "    \"\"\"\n",
    "    for file in path.glob('**/*'):\n",
    "        if file.is_dir():\n",
    "            continue\n",
    "        yield file, imread(str(file))"
   ]
  },
  {
   "cell_type": "code",
   "execution_count": null,
   "metadata": {},
   "outputs": [],
   "source": [
    "input_dir = './images'\n",
    "output_dir = './masks'\n",
    "hist_dir = './histograms'\n",
    "\n",
    "input_path = Path(input_dir)\n",
    "output_path = Path(output_dir)\n",
    "hist_path = Path(hist_dir)\n",
    "output_path.mkdir(parents=True, exist_ok=True)\n",
    "\n",
    "reference = imread('ref.jpg')\n",
    "\n",
    "min_tile_size = 30\n",
    "min_image_size = get_min_size(image_files(input_path))"
   ]
  },
  {
   "cell_type": "code",
   "execution_count": null,
   "metadata": {},
   "outputs": [],
   "source": [
    "for file, image in image_files(input_path):\n",
    "    image = crop_center(image, *min_image_size)\n",
    "    image = match_histograms(image, reference, channel_axis=-1)\n",
    "    shuffled_image, res = shuffle_img(image, min_tile_size)\n",
    "\n",
    "    imwrite(str(hist_path / file.relative_to(input_dir)), image)\n",
    "    imwrite(str(output_path / file.relative_to(input_dir)), shuffled_image)\n",
    "\n",
    "    print(\"Using tiles of size %s to shuffle '%s'\" % (res, file))"
   ]
  }
 ],
 "metadata": {
  "kernelspec": {
   "display_name": "Python 3.11.6 64-bit",
   "language": "python",
   "name": "python3"
  },
  "language_info": {
   "codemirror_mode": {
    "name": "ipython",
    "version": 3
   },
   "file_extension": ".py",
   "mimetype": "text/x-python",
   "name": "python",
   "nbconvert_exporter": "python",
   "pygments_lexer": "ipython3",
   "version": "3.11.6"
  },
  "vscode": {
   "interpreter": {
    "hash": "c261aea317cc0286b3b3261fbba9abdec21eaa57589985bb7a274bf54d6cc0a7"
   }
  }
 },
 "nbformat": 4,
 "nbformat_minor": 2
}
